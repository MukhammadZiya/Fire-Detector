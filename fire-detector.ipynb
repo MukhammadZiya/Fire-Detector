{
 "cells": [
  {
   "cell_type": "code",
   "execution_count": null,
   "id": "cb553701-122d-4afb-bb35-f272be9789c7",
   "metadata": {
    "tags": []
   },
   "outputs": [
    {
     "name": "stdout",
     "output_type": "stream",
     "text": [
      "Fire Detected\n",
      "(535, b'5.7.8 Username and Password not accepted. Learn more at\\n5.7.8  https://support.google.com/mail/?p=BadCredentials t23-20020a170902b21700b001d0828f2ebfsm1433211plr.273 - gsmtp')\n"
     ]
    }
   ],
   "source": [
    "import cv2\n",
    "import numpy as np\n",
    "from playsound import playsound\n",
    "import smtplib\n",
    "\n",
    "Fire_Repoted = 0\n",
    "Alarm_Status = False\n",
    "\n",
    "\n",
    "def play_audio():\n",
    "    playsound(\"distant-ambulance-siren-6108.mp3\", True)\n",
    "\n",
    "\n",
    "def send_email():\n",
    "    recipient_email = \"recipient_email\"\n",
    "    recipient_email = recipient_email.lower()\n",
    "\n",
    "    try:\n",
    "        server = smtplib.SMTP('smtp.gmail.com', 587)\n",
    "        server.ehlo()\n",
    "        server.starttls()\n",
    "        server.login(\"your_email@gmail.com\", \"your_email_password\")\n",
    "        server.sendmail('your_email@gmail.com', recipient_email, \"Subject: Fire Alert\\n\\nA fire accident has been reported.\")\n",
    "        print(\"Email sent to {}\".format(recipient_email))\n",
    "        server.close()\n",
    "    except Exception as e:\n",
    "        print(e)\n",
    "\n",
    "\n",
    "video = cv2.VideoCapture(\"video-fire.mp4\")\n",
    "# video = cv2.VideoCapture(1)\n",
    "\n",
    "while True:\n",
    "    ret, frame = video.read()\n",
    "    frame = cv2.resize(frame, (960, 540))\n",
    "    blur = cv2.GaussianBlur(frame, (15, 15), 0)\n",
    "    hsv = cv2.cvtColor(blur, cv2.COLOR_BGR2HSV)\n",
    "\n",
    "    lower = [18, 50, 50]\n",
    "    upper = [35, 255, 255]\n",
    "\n",
    "    lower = np.array(lower, dtype='uint8')\n",
    "    upper = np.array(upper, dtype='uint8')\n",
    "\n",
    "    mask = cv2.inRange(hsv, lower, upper)\n",
    "    output = cv2.bitwise_and(frame, hsv, mask=mask)\n",
    "\n",
    "    size_of_fire = cv2.countNonZero(mask)\n",
    "\n",
    "    if int(size_of_fire) > 10000:\n",
    "        print(\"Fire Detected\")\n",
    "        Fire_Repoted = Fire_Repoted + 1\n",
    "\n",
    "        if Fire_Repoted >= 1:\n",
    "            if not Alarm_Status:\n",
    "                send_email()\n",
    "                play_audio()\n",
    "                Alarm_Status = True\n",
    "\n",
    "    if ret == False:\n",
    "        break\n",
    "\n",
    "    cv2.imshow(\"Output\", hsv)\n",
    "\n",
    "    if cv2.waitKey(1) & 0xFF == ord(\"q\"):\n",
    "        break\n",
    "\n",
    "cv2.destroyAllWindows()\n",
    "video.release()\n"
   ]
  },
  {
   "cell_type": "code",
   "execution_count": null,
   "id": "42ffee76-874f-4a54-9f25-c53b679d10f4",
   "metadata": {},
   "outputs": [],
   "source": []
  }
 ],
 "metadata": {
  "kernelspec": {
   "display_name": "my_env",
   "language": "python",
   "name": "my_env"
  },
  "language_info": {
   "codemirror_mode": {
    "name": "ipython",
    "version": 3
   },
   "file_extension": ".py",
   "mimetype": "text/x-python",
   "name": "python",
   "nbconvert_exporter": "python",
   "pygments_lexer": "ipython3",
   "version": "3.9.18"
  }
 },
 "nbformat": 4,
 "nbformat_minor": 5
}
